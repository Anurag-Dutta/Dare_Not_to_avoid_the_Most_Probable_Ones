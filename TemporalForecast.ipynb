{
  "cells": [
    {
      "cell_type": "code",
      "execution_count": 1,
      "metadata": {
        "colab": {
          "base_uri": "https://localhost:8080/"
        },
        "id": "81c4kXlGYctM",
        "outputId": "897ae0d7-ed77-4792-89e6-17acb74d5184"
      },
      "outputs": [
        {
          "name": "stdout",
          "output_type": "stream",
          "text": [
            "Drive already mounted at /content/drive; to attempt to forcibly remount, call drive.mount(\"/content/drive\", force_remount=True).\n"
          ]
        }
      ],
      "source": [
        "from google.colab import drive\n",
        "drive.mount('/content/drive')"
      ]
    },
    {
      "cell_type": "code",
      "execution_count": 2,
      "metadata": {
        "id": "IVM3rrNIYFeg"
      },
      "outputs": [],
      "source": [
        "import numpy as np\n",
        "import pandas as pd\n",
        "import torch\n",
        "import torch.nn as nn\n",
        "from sklearn.preprocessing import MinMaxScaler\n",
        "from sklearn.model_selection import train_test_split"
      ]
    },
    {
      "cell_type": "code",
      "execution_count": 3,
      "metadata": {
        "id": "KIa6pbZZd8Qa"
      },
      "outputs": [],
      "source": [
        "class LSTM(nn.Module):\n",
        "    def __init__(self, input_size, hidden_size, num_layers, output_size):\n",
        "        super(LSTM, self).__init__()\n",
        "        self.hidden_size = hidden_size\n",
        "        self.num_layers = num_layers\n",
        "        self.lstm = nn.LSTM(input_size, hidden_size, num_layers, batch_first=True)\n",
        "        self.fc = nn.Linear(hidden_size, output_size)\n",
        "\n",
        "    def forward(self, x):\n",
        "        h0 = torch.zeros(self.num_layers, x.size(0), self.hidden_size).to(device)\n",
        "        c0 = torch.zeros(self.num_layers, x.size(0), self.hidden_size).to(device)\n",
        "\n",
        "        out, _ = self.lstm(x, (h0, c0))\n",
        "\n",
        "        out = self.fc(out[:, -1, :])\n",
        "\n",
        "        return out"
      ]
    },
    {
      "cell_type": "code",
      "execution_count": 4,
      "metadata": {
        "id": "AZk6rIEud9Nz"
      },
      "outputs": [],
      "source": [
        "# Define hyperparameters\n",
        "input_size = 1\n",
        "hidden_size = 64\n",
        "num_layers = 2\n",
        "output_size = 1\n",
        "num_epochs = 500\n",
        "learning_rate = 0.01\n",
        "step_ahead = 15\n",
        "\n",
        "# Create the LSTM model\n",
        "device = torch.device('cuda' if torch.cuda.is_available() else 'cpu')\n",
        "model = LSTM(input_size, hidden_size, num_layers, output_size).to(device)\n",
        "\n",
        "# Define loss and optimizer\n",
        "criterion = nn.MSELoss()\n",
        "optimizer = torch.optim.Adam(model.parameters(), lr=learning_rate)"
      ]
    },
    {
      "cell_type": "code",
      "execution_count": 5,
      "metadata": {
        "colab": {
          "base_uri": "https://localhost:8080/"
        },
        "id": "ZB4-fipbYofi",
        "outputId": "6aed5a72-826a-436c-d021-fb0961834dc4"
      },
      "outputs": [
        {
          "name": "stdout",
          "output_type": "stream",
          "text": [
            "     values\n",
            "0       112\n",
            "1       118\n",
            "2       132\n",
            "3       129\n",
            "4       121\n",
            "..      ...\n",
            "139     606\n",
            "140     508\n",
            "141     461\n",
            "142     390\n",
            "143     432\n",
            "\n",
            "[144 rows x 1 columns]\n"
          ]
        }
      ],
      "source": [
        "data = pd.read_csv('/content/drive/MyDrive/Colab Notebooks/Dare_Not_to_avoid_the_Most_Probable_Ones/datasets/airline_passengers.csv')\n",
        "print(data)"
      ]
    },
    {
      "cell_type": "code",
      "execution_count": 6,
      "metadata": {
        "id": "8nGTTiUueUfq"
      },
      "outputs": [],
      "source": [
        "data = np.array(data)\n",
        "pred_real = data[-step_ahead:].squeeze()\n",
        "data = data[:-step_ahead]\n",
        "prob_thres = data.size - 25\n",
        "d_lag = data[:-25]\n",
        "d_rem = data[-25:]"
      ]
    },
    {
      "cell_type": "code",
      "execution_count": 7,
      "metadata": {
        "id": "gWp1iJSdgrXC"
      },
      "outputs": [],
      "source": [
        "maxim = max(d_lag).item()\n",
        "minim = min(d_lag).item()\n",
        "interval_width = (maxim - minim)/(prob_thres)"
      ]
    },
    {
      "cell_type": "code",
      "execution_count": 8,
      "metadata": {
        "id": "uAS7ROjyhvWu"
      },
      "outputs": [],
      "source": [
        "v = np.zeros(prob_thres)\n",
        "p = np.zeros(prob_thres)"
      ]
    },
    {
      "cell_type": "code",
      "execution_count": 9,
      "metadata": {
        "id": "1q5RvCsCiL4h"
      },
      "outputs": [],
      "source": [
        "# counter = int(0)\n",
        "for iter_data in range(d_lag.size - 1):\n",
        "    for i in range (v.size):\n",
        "        # print(i, \"\\n\")\n",
        "        if(d_lag[iter_data] >= (minim + (i * interval_width)) and d_lag[iter_data] < (minim + (i + 1) * (interval_width))):\n",
        "            # print(d_lag[iter_data], \"in interval\", i, \"between\", (minim + (i * interval_width)), \"and\", (minim + (i + 1) * interval_width), \"\\n\")\n",
        "            # print(v[i], \".. before \\n\")\n",
        "            v[i] = v[i] + 1\n",
        "            # print(v[i], \".. after \\n\")\n",
        "            # counter = counter + 1\n",
        "            i = 0\n",
        "            break\n",
        "# print(counter)"
      ]
    },
    {
      "cell_type": "code",
      "execution_count": 10,
      "metadata": {
        "id": "e7K35o2_k4RL"
      },
      "outputs": [],
      "source": [
        "p = v/np.sum(v)"
      ]
    },
    {
      "cell_type": "code",
      "execution_count": 11,
      "metadata": {
        "colab": {
          "base_uri": "https://localhost:8080/"
        },
        "id": "h-xntWlGsK56",
        "outputId": "e1b37182-e3a5-4331-d8b9-20fc3677a202"
      },
      "outputs": [
        {
          "data": {
            "text/plain": [
              "0.9999999999999998"
            ]
          },
          "execution_count": 11,
          "metadata": {},
          "output_type": "execute_result"
        }
      ],
      "source": [
        "p.sum() # must be 1"
      ]
    },
    {
      "cell_type": "code",
      "execution_count": 12,
      "metadata": {
        "colab": {
          "base_uri": "https://localhost:8080/"
        },
        "id": "w8XMqgAvvBT-",
        "outputId": "acbfce70-f21f-4367-af0a-c18628dc16cc"
      },
      "outputs": [
        {
          "data": {
            "text/plain": [
              "(array([0.00970874, 0.        , 0.01941748, 0.00970874, 0.03883495,\n",
              "        0.        , 0.01941748, 0.00970874, 0.03883495, 0.00970874,\n",
              "        0.01941748, 0.00970874, 0.03883495, 0.00970874, 0.        ,\n",
              "        0.00970874, 0.01941748, 0.00970874, 0.01941748, 0.02912621,\n",
              "        0.        , 0.03883495, 0.02912621, 0.        , 0.01941748,\n",
              "        0.01941748, 0.01941748, 0.02912621, 0.01941748, 0.        ,\n",
              "        0.01941748, 0.        , 0.00970874, 0.        , 0.        ,\n",
              "        0.03883495, 0.01941748, 0.03883495, 0.01941748, 0.02912621,\n",
              "        0.        , 0.        , 0.        , 0.        , 0.00970874,\n",
              "        0.01941748, 0.00970874, 0.02912621, 0.01941748, 0.01941748,\n",
              "        0.        , 0.00970874, 0.        , 0.        , 0.00970874,\n",
              "        0.        , 0.01941748, 0.01941748, 0.        , 0.01941748,\n",
              "        0.01941748, 0.01941748, 0.        , 0.        , 0.        ,\n",
              "        0.        , 0.        , 0.        , 0.        , 0.01941748,\n",
              "        0.        , 0.01941748, 0.00970874, 0.        , 0.00970874,\n",
              "        0.        , 0.        , 0.00970874, 0.        , 0.        ,\n",
              "        0.        , 0.        , 0.        , 0.        , 0.        ,\n",
              "        0.        , 0.00970874, 0.        , 0.00970874, 0.        ,\n",
              "        0.        , 0.00970874, 0.        , 0.        , 0.        ,\n",
              "        0.        , 0.        , 0.        , 0.        , 0.        ,\n",
              "        0.        , 0.        , 0.        , 0.00970874]),\n",
              " array([1., 0., 2., 1., 4., 0., 2., 1., 4., 1., 2., 1., 4., 1., 0., 1., 2.,\n",
              "        1., 2., 3., 0., 4., 3., 0., 2., 2., 2., 3., 2., 0., 2., 0., 1., 0.,\n",
              "        0., 4., 2., 4., 2., 3., 0., 0., 0., 0., 1., 2., 1., 3., 2., 2., 0.,\n",
              "        1., 0., 0., 1., 0., 2., 2., 0., 2., 2., 2., 0., 0., 0., 0., 0., 0.,\n",
              "        0., 2., 0., 2., 1., 0., 1., 0., 0., 1., 0., 0., 0., 0., 0., 0., 0.,\n",
              "        0., 1., 0., 1., 0., 0., 1., 0., 0., 0., 0., 0., 0., 0., 0., 0., 0.,\n",
              "        0., 1.]))"
            ]
          },
          "execution_count": 12,
          "metadata": {},
          "output_type": "execute_result"
        }
      ],
      "source": [
        "p, v"
      ]
    },
    {
      "cell_type": "code",
      "execution_count": 13,
      "metadata": {
        "id": "42c9BnEJvagB"
      },
      "outputs": [],
      "source": [
        "for iter_data in range(d_rem.size - 1):\n",
        "    for i in range (v.size):\n",
        "        if(d_rem[iter_data] >= (minim + (i * interval_width)) and d_rem[iter_data] < (minim + (i + 1) * (interval_width))):\n",
        "            z_score = abs(p[i] - v.mean())/v.std()\n",
        "            p[i] = p[i] + z_score\n",
        "            for j in range (p.size):\n",
        "                if i != j:\n",
        "                    p[j] = p[j] - (z_score/(v.size))\n",
        "            i = 0\n",
        "            break\n",
        "\n",
        "p[p < 0] = 0 # Getting rid of negatives"
      ]
    },
    {
      "cell_type": "code",
      "execution_count": 14,
      "metadata": {
        "colab": {
          "base_uri": "https://localhost:8080/"
        },
        "id": "XJ9e9dCPx7MV",
        "outputId": "9c4d5587-9f4c-4977-ba15-2f19d1e6feb1"
      },
      "outputs": [
        {
          "data": {
            "text/plain": [
              "array([0.        , 0.        , 0.        , 0.        , 0.        ,\n",
              "       0.        , 0.        , 0.        , 0.        , 0.        ,\n",
              "       0.        , 0.        , 0.        , 0.        , 0.        ,\n",
              "       0.        , 0.        , 0.        , 0.        , 0.        ,\n",
              "       0.        , 0.        , 0.        , 0.        , 0.        ,\n",
              "       0.        , 0.        , 0.        , 0.        , 0.        ,\n",
              "       0.        , 0.        , 0.        , 0.        , 0.        ,\n",
              "       0.        , 0.        , 0.        , 0.        , 0.        ,\n",
              "       0.        , 0.        , 0.        , 0.        , 0.        ,\n",
              "       0.        , 0.        , 0.        , 0.        , 0.        ,\n",
              "       0.        , 0.        , 0.        , 0.        , 0.        ,\n",
              "       0.        , 0.        , 0.73285255, 0.        , 0.78627189,\n",
              "       0.        , 0.753621  , 0.        , 0.        , 0.        ,\n",
              "       0.        , 0.9204198 , 0.74367042, 0.79231357, 0.89304654,\n",
              "       0.        , 0.        , 0.        , 0.94880033, 0.76758993,\n",
              "       0.        , 0.        , 0.        , 0.        , 0.        ,\n",
              "       0.        , 0.        , 0.        , 0.80713994, 0.        ,\n",
              "       0.90733014, 0.80119384, 0.        , 0.        , 0.        ,\n",
              "       0.81467639, 0.        , 0.        , 0.        , 0.77326425,\n",
              "       0.        , 0.        , 0.        , 0.        , 0.        ,\n",
              "       0.        , 0.        , 0.        , 0.        ])"
            ]
          },
          "execution_count": 14,
          "metadata": {},
          "output_type": "execute_result"
        }
      ],
      "source": [
        "p"
      ]
    },
    {
      "cell_type": "code",
      "execution_count": 15,
      "metadata": {
        "colab": {
          "base_uri": "https://localhost:8080/"
        },
        "id": "jvenKM1iTCMX",
        "outputId": "0eae0e0f-15aa-4ed7-ed99-19cb9032ae5e"
      },
      "outputs": [
        {
          "data": {
            "text/plain": [
              "(104,)"
            ]
          },
          "execution_count": 15,
          "metadata": {},
          "output_type": "execute_result"
        }
      ],
      "source": [
        "p.shape"
      ]
    },
    {
      "cell_type": "code",
      "execution_count": 16,
      "metadata": {
        "id": "aNCjooKgeC1N"
      },
      "outputs": [],
      "source": [
        "def create_sequences(data, seq_length):\n",
        "    sequences = []\n",
        "    for i in range(len(data) - seq_length):\n",
        "        seq = data[i:i+seq_length]\n",
        "        sequences.append(seq)\n",
        "    return sequences"
      ]
    },
    {
      "cell_type": "code",
      "execution_count": 17,
      "metadata": {
        "id": "syiaKqSoe1vc"
      },
      "outputs": [],
      "source": [
        "seq_length = 10\n",
        "sequences = create_sequences(data, seq_length)\n",
        "sequences = np.array(sequences)\n",
        "X = torch.tensor(sequences[:, :-1]).float().to(device)\n",
        "y = torch.tensor(sequences[:, -1]).float().to(device)\n",
        "\n",
        "# Train the model\n",
        "for epoch in range(num_epochs):\n",
        "    model.train()\n",
        "    outputs = model(X)\n",
        "    loss = criterion(outputs, y)\n",
        "    optimizer.zero_grad()\n",
        "    loss.backward()\n",
        "    optimizer.step()\n",
        "\n",
        "    # if (epoch+1) % 10 == 0:\n",
        "    #     print(f'Epoch [{epoch+1}/{num_epochs}], Loss: {loss.item():.4f}')\n",
        "\n",
        "preds = np.array(-1)\n",
        "model.eval()\n",
        "for _ in range(step_ahead): # Step ahead\n",
        "    pred = model(X[-1, -seq_length+1:].unsqueeze(0))\n",
        "    forecast = pred.round().detach().cpu().numpy()\n",
        "    data = np.concatenate([data, forecast])\n",
        "    preds = np.append(preds, forecast)\n",
        "    seq_length = 10\n",
        "    sequences = create_sequences(data, seq_length)\n",
        "    sequences = np.array(sequences)\n",
        "    X = torch.tensor(sequences[:, :-1]).float().to(device)\n",
        "    y = torch.tensor(sequences[:, -1]).float().to(device)"
      ]
    },
    {
      "cell_type": "code",
      "execution_count": 18,
      "metadata": {
        "id": "x9KGlK5W1Kh1"
      },
      "outputs": [],
      "source": [
        "preds = preds[1:]"
      ]
    },
    {
      "cell_type": "code",
      "execution_count": 19,
      "metadata": {
        "id": "HsJ35uDxzeB0"
      },
      "outputs": [],
      "source": [
        "smoothening_param = 0.875\n",
        "for preds_iter in range(preds.size):\n",
        "    for i in range (p.size):\n",
        "        if(preds[preds_iter] >= (minim + (i * interval_width)) and preds[preds_iter] < (minim + (i + 1) * (interval_width))):\n",
        "            preds[preds_iter] = smoothening_param * preds[preds_iter] + (1 - smoothening_param) * p[i]\n",
        "            i = 0\n",
        "            break"
      ]
    }
  ],
  "metadata": {
    "accelerator": "GPU",
    "colab": {
      "gpuType": "T4",
      "provenance": []
    },
    "kernelspec": {
      "display_name": "Python 3",
      "name": "python3"
    },
    "language_info": {
      "name": "python"
    }
  },
  "nbformat": 4,
  "nbformat_minor": 0
}
